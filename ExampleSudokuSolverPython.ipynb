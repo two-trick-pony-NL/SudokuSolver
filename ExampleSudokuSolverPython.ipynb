{
 "cells": [
  {
   "cell_type": "markdown",
   "metadata": {},
   "source": [
    "# Sudoku Solver! 🤓\n",
    "This is pvandoorn's Sudoku puzzle solver. The script solves sudoku puzzles in the blink of an eye. \n",
    "\n",
    "#### How does it work:\n",
    "0. Change the grid for the numbers in your puzzle (all the way down is an empty template)\n",
    "1. Hit shift + enter to execute a block of code\n",
    "2. Go block by block to get your answer\n",
    "3. Each line tells you what the script does text after a # is a comment\n",
    "\n",
    "Let's start by defining the puzzle: "
   ]
  },
  {
   "cell_type": "code",
   "execution_count": 2,
   "metadata": {
    "collapsed": true
   },
   "outputs": [],
   "source": [
    "#Representation of the puzzle to solve by pressing shift+enter the program will know that grid is the puzzle\n",
    "grid = [[5,3,0,0,7,0,0,0,0],\n",
    "        [6,0,0,1,9,5,0,0,0],\n",
    "        [0,9,8,0,0,0,0,6,0],\n",
    "        [8,0,0,0,6,0,0,0,3],\n",
    "        [4,0,0,8,0,3,0,0,1],\n",
    "        [7,0,0,0,2,0,0,0,6],\n",
    "        [0,6,0,0,0,0,2,8,0],\n",
    "        [0,0,0,4,1,9,0,0,5],\n",
    "        [0,0,0,0,8,0,0,7,9]]\n"
   ]
  },
  {
   "cell_type": "code",
   "execution_count": 3,
   "metadata": {},
   "outputs": [
    {
     "name": "stdout",
     "output_type": "stream",
     "text": [
      "[[5 3 0 0 7 0 0 0 0]\n",
      " [6 0 0 1 9 5 0 0 0]\n",
      " [0 9 8 0 0 0 0 6 0]\n",
      " [8 0 0 0 6 0 0 0 3]\n",
      " [4 0 0 8 0 3 0 0 1]\n",
      " [7 0 0 0 2 0 0 0 6]\n",
      " [0 6 0 0 0 0 2 8 0]\n",
      " [0 0 0 4 1 9 0 0 5]\n",
      " [0 0 0 0 8 0 0 7 9]]\n"
     ]
    }
   ],
   "source": [
    "# Numpy is a tool that helps us to display the puzzle in a better readable way\n",
    "import numpy \n",
    "print(numpy.matrix(grid)) # let's print the sudoku puzzle using Numpy: "
   ]
  },
  {
   "cell_type": "markdown",
   "metadata": {},
   "source": [
    "## Checking algorithm\n",
    "Next up is a algorithm that checks whether a number in a certain place is allowed. \n",
    "It returns true if a number is allowed in a specific place, and False if it is not allowed. "
   ]
  },
  {
   "cell_type": "code",
   "execution_count": 4,
   "metadata": {
    "collapsed": true
   },
   "outputs": [],
   "source": [
    "def possible(y,x,n) : # y and x are coordinates for the block you want to check, N is the number you want to try. \n",
    "    global grid # look at the grid\n",
    "    for i in range(0,9) : # try for all the numbers numbers 1 through 9\n",
    "        if grid[y][i] == n : # If the number you are trying, exists in the y column then the number is False\n",
    "            return False\n",
    "    for i in range(0,9) : # try for all the numbers numbers 1 through 9\n",
    "        if grid[i][x] == n : # If the number you are trying, exists in the x column then the number is False\n",
    "            return False\n",
    "    x0 = (x//3)*3\n",
    "    y0 = (y//3)*3\n",
    "    for i in range (0,3) : #If the number you are trying exists in the square then the number is False\n",
    "        for j in range(0,3) :\n",
    "            if grid[y0+i][x0+j] == n :\n",
    "                return False\n",
    "    return True # if the number you are trying, is not in the row, or in the column and not in the square that number is allowed \n",
    "\n"
   ]
  },
  {
   "cell_type": "markdown",
   "metadata": {},
   "source": [
    "## Let's see if that works! 🤖\n",
    "The next cell is a helper function that allows us to test a random position. It ensures that the algorithm we just wrote works properly. Simply call the function `Possible(y,x,n)` and put the following information between the brackets: \n",
    "- first digit is the Y position\n",
    "- second digit is the X position\n",
    "- third number is the number you would like to test in that position\n",
    "- Seperate with a comma \n",
    "- Press shift + enter\n",
    "\n",
    "\n",
    "As an example: try `possible(4,4,5)` if you want to try 5, in the center of your puzzle (row 5, column 5)\n",
    "indexes in python start with 0 instead of 1. "
   ]
  },
  {
   "cell_type": "code",
   "execution_count": 5,
   "metadata": {},
   "outputs": [
    {
     "data": {
      "text/plain": [
       "True"
      ]
     },
     "execution_count": 5,
     "metadata": {},
     "output_type": "execute_result"
    }
   ],
   "source": [
    "possible(4,4,5) "
   ]
  },
  {
   "cell_type": "markdown",
   "metadata": {},
   "source": [
    "## The Solver 🧩\n",
    "The next block defines the  solver function. It looks at the puzzle and will go over eacht block, checks if there is a valid number (using the checking algorithm we just wrote) and will replace the numbers in the puzzle as it finds correct answers. if it is done it will print the puzzle, using the Numpy tool we imported earlier. "
   ]
  },
  {
   "cell_type": "code",
   "execution_count": 6,
   "metadata": {
    "collapsed": true
   },
   "outputs": [],
   "source": [
    "# Writing the solver that recursively goes trough all options\n",
    "# and replaces the options if a number is valid\n",
    "def solve() :\n",
    "    global grid\n",
    "    for y in range(9) : #go over all 9 rows\n",
    "        for x in range(9) : #go over all 9 columns\n",
    "            if grid[y][x]==0 : #if cell is 0 (empty)\n",
    "                for n in range(1,10) : # Try the numbers 1-9\n",
    "                    if possible(y,x,n) : # call the check algorithm\n",
    "                        grid[y][x] = n #fill in the number that was found if the check algorithm returns true\n",
    "                        solve() #continue with the next square\n",
    "                        grid[y][x] = 0 #fill in a zero if the check algorithm returns false \n",
    "                return\n",
    "    print(numpy.matrix(grid)) # print with the numpy tool after we're done\n",
    "    input(\"More?\")"
   ]
  },
  {
   "cell_type": "markdown",
   "metadata": {},
   "source": [
    "## The solution 🎉"
   ]
  },
  {
   "cell_type": "code",
   "execution_count": 7,
   "metadata": {},
   "outputs": [
    {
     "name": "stdout",
     "output_type": "stream",
     "text": [
      "[[5 3 4 6 7 8 9 1 2]\n",
      " [6 7 2 1 9 5 3 4 8]\n",
      " [1 9 8 3 4 2 5 6 7]\n",
      " [8 5 9 7 6 1 4 2 3]\n",
      " [4 2 6 8 5 3 7 9 1]\n",
      " [7 1 3 9 2 4 8 5 6]\n",
      " [9 6 1 5 3 7 2 8 4]\n",
      " [2 8 7 4 1 9 6 3 5]\n",
      " [3 4 5 2 8 6 1 7 9]]\n",
      "More?\n"
     ]
    }
   ],
   "source": [
    "# hit shift + enter to solve the puzzle using the solve function we just described\n",
    "# press return after it shows the solution to display alternative solutions. \n",
    "\n",
    "solve()"
   ]
  },
  {
   "cell_type": "markdown",
   "metadata": {},
   "source": [
    "##### Empty template, so you can easily run your own puzzles"
   ]
  },
  {
   "cell_type": "code",
   "execution_count": null,
   "metadata": {
    "collapsed": true
   },
   "outputs": [],
   "source": [
    "\"\"\" \n",
    "grid = [[0,0,0,0,0,0,0,0,0],\n",
    "        [0,0,0,0,0,0,0,0,0],\n",
    "        [0,0,0,0,0,0,0,0,0],\n",
    "        [0,0,0,0,0,0,0,0,0],\n",
    "        [0,0,0,0,0,0,0,0,0],\n",
    "        [0,0,0,0,0,0,0,0,0],\n",
    "        [0,0,0,0,0,0,0,0,0],\n",
    "        [0,0,0,0,0,0,0,0,0],\n",
    "        [0,0,0,0,0,0,0,0,0]]\n",
    "\"\"\""
   ]
  },
  {
   "cell_type": "code",
   "execution_count": null,
   "metadata": {
    "collapsed": true
   },
   "outputs": [],
   "source": []
  }
 ],
 "metadata": {
  "kernelspec": {
   "display_name": "Python 3",
   "language": "python",
   "name": "python3"
  },
  "language_info": {
   "codemirror_mode": {
    "name": "ipython",
    "version": 3
   },
   "file_extension": ".py",
   "mimetype": "text/x-python",
   "name": "python",
   "nbconvert_exporter": "python",
   "pygments_lexer": "ipython3",
   "version": "3.6.3"
  }
 },
 "nbformat": 4,
 "nbformat_minor": 2
}
