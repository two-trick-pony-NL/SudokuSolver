{
 "cells": [
  {
   "cell_type": "markdown",
   "metadata": {},
   "source": [
    "# Sudoku Solver! 🤓\n",
    "This is my Sudoku puzzle solver. A simple script that solves sudoku puzzles in the blink of an eye. Inspired by this [video](https://www.youtube.com/watch?v=G_UYXzGuqvM)\n",
    "\n",
    "#### How does it work:\n",
    "0. Change the grid in the next section for the numbers in your puzzle (all the way down is an empty template)\n",
    "1. Hit shift + enter to execute a block of code\n",
    "2. Go block by block to get your answer\n",
    "3. Each line tells you what the script does text after a # is a comment\n",
    "\n",
    "Let's start by defining the puzzle: "
   ]
  },
  {
   "cell_type": "code",
   "execution_count": 1,
   "metadata": {
    "collapsed": true
   },
   "outputs": [],
   "source": [
    "#Representation of the puzzle to solve by pressing shift+enter the program will know that grid is the puzzle\n",
    "grid = [[0,0,0,0,1,5,0,7,0],\n",
    "        [0,0,0,0,0,0,5,8,1],\n",
    "        [3,0,0,0,0,7,0,6,2],\n",
    "        [0,9,0,0,0,0,0,5,0],\n",
    "        [0,0,0,1,0,0,0,0,0],\n",
    "        [0,7,6,0,0,0,0,1,0],\n",
    "        [7,0,0,0,5,0,4,0,0],\n",
    "        [0,4,5,3,0,0,7,0,8],\n",
    "        [2,0,0,0,9,0,0,0,0]]\n"
   ]
  },
  {
   "cell_type": "code",
   "execution_count": 2,
   "metadata": {
    "scrolled": true
   },
   "outputs": [
    {
     "name": "stdout",
     "output_type": "stream",
     "text": [
      "[[0 0 0 0 1 5 0 7 0]\n",
      " [0 0 0 0 0 0 5 8 1]\n",
      " [3 0 0 0 0 7 0 6 2]\n",
      " [0 9 0 0 0 0 0 5 0]\n",
      " [0 0 0 1 0 0 0 0 0]\n",
      " [0 7 6 0 0 0 0 1 0]\n",
      " [7 0 0 0 5 0 4 0 0]\n",
      " [0 4 5 3 0 0 7 0 8]\n",
      " [2 0 0 0 9 0 0 0 0]]\n"
     ]
    }
   ],
   "source": [
    "# Numpy is a tool that helps us to display the puzzle in a better readable way\n",
    "import numpy\n",
    "print(numpy.matrix(grid)) # let's print the sudoku puzzle using Numpy: "
   ]
  },
  {
   "cell_type": "markdown",
   "metadata": {},
   "source": [
    "## Checking algorithm\n",
    "Next up is a algorithm that checks whether a number in a certain place is allowed. \n",
    "It returns true if a number is allowed in a specific place, and False if it is not allowed. "
   ]
  },
  {
   "cell_type": "code",
   "execution_count": 3,
   "metadata": {
    "collapsed": true,
    "scrolled": true
   },
   "outputs": [],
   "source": [
    "def possible(y,x,n) : # defines a function  called possible, that takes a x and y coordinate and a number N that you'd like to check \n",
    "    global grid # look at the grid\n",
    "    for i in range(0,9) : # try for all the numbers numbers 1 through 9\n",
    "        if grid[y][i] == n : # If the number you are trying, exists in the y column then the number is False\n",
    "            return False\n",
    "    for i in range(0,9) : # try for all the numbers numbers 1 through 9\n",
    "        if grid[i][x] == n : # If the number you are trying, exists in the x column then the number is False\n",
    "            return False\n",
    "    x0 = (x//3)*3\n",
    "    y0 = (y//3)*3\n",
    "    for i in range (0,3) : #If the number you are trying exists in the square then the number is False\n",
    "        for j in range(0,3) :\n",
    "            if grid[y0+i][x0+j] == n :\n",
    "                return False\n",
    "    return True # if the number you are trying, is not in the row, or in the column and not in the square that number is allowed \n",
    "\n"
   ]
  },
  {
   "cell_type": "markdown",
   "metadata": {},
   "source": [
    "## Let's see if that works! 🤖\n",
    "The next cell is a helper function that allows us to test a position that we'd like to validate. It ensures that the algorithm we just wrote works properly. Simply call the function `Possible(y,x,n)` that we just defined and put the following information between the brackets: \n",
    "- first digit is the Y position of the square you want to try\n",
    "- second digit is the X position of the square you want to try\n",
    "- third digit is the number you would like to test and see if it is allowed\n",
    "- Seperate with a comma \n",
    "- Press shift + enter to execute\n",
    "\n",
    "\n",
    "As an example: try `possible(4,4,5)` if you want to try 5, in the center of your puzzle (row 5, column 5)\n",
    "indexes in python start with 0 instead of 1 so it is always one less then you expect. "
   ]
  },
  {
   "cell_type": "code",
   "execution_count": 4,
   "metadata": {},
   "outputs": [
    {
     "data": {
      "text/plain": [
       "True"
      ]
     },
     "execution_count": 4,
     "metadata": {},
     "output_type": "execute_result"
    }
   ],
   "source": [
    "possible(0,2,9) "
   ]
  },
  {
   "cell_type": "markdown",
   "metadata": {},
   "source": [
    "## The Solver 🧩\n",
    "The next block defines the  solver function. It looks at the puzzle and will go over eacht block, checks if there is a valid number (using the checking algorithm we just wrote) and will replace the numbers in the puzzle as it finds correct answers. if it is done it will print the puzzle, using the Numpy tool we imported earlier. "
   ]
  },
  {
   "cell_type": "code",
   "execution_count": 5,
   "metadata": {},
   "outputs": [],
   "source": [
    "# Writing the solver that recursively goes trough all options\n",
    "# the solver replaces the options if a number is valid\n",
    "def solve() : # defines a function called solve\n",
    "    global grid # look at the puzzle \n",
    "    for y in range(9) : #go over all 9 rows\n",
    "        for x in range(9) : #go over all 9 columns\n",
    "            if grid[y][x]==0 : #if cell is 0 (empty)\n",
    "                for n in range(1,10) : # Try the numbers 1-9\n",
    "                    if possible(y,x,n) : # call the check algorithm we wrote before and try the X,Y coordinate with a number between 1-9\n",
    "                        grid[y][x] = n #fill in the number in our puzzle that was found if the check algorithm returns true\n",
    "                        solve() #continue with the next square\n",
    "                        grid[y][x] = 0 #fill in a zero if the check algorithm returns false \n",
    "                return\n",
    "    print(numpy.matrix(grid)) # print with the numpy tool after we're done\n",
    "    input(\"Hit enter to see if there is an alternative solutions available\")\n",
    "    \n",
    "    "
   ]
  },
  {
   "cell_type": "markdown",
   "metadata": {},
   "source": [
    "## The solution 🎉"
   ]
  },
  {
   "cell_type": "code",
   "execution_count": 6,
   "metadata": {},
   "outputs": [
    {
     "name": "stdout",
     "output_type": "stream",
     "text": [
      "[[6 8 9 2 1 5 3 7 4]\n",
      " [4 2 7 9 3 6 5 8 1]\n",
      " [3 5 1 4 8 7 9 6 2]\n",
      " [1 9 4 6 2 3 8 5 7]\n",
      " [5 3 2 1 7 8 6 4 9]\n",
      " [8 7 6 5 4 9 2 1 3]\n",
      " [7 1 3 8 5 2 4 9 6]\n",
      " [9 4 5 3 6 1 7 2 8]\n",
      " [2 6 8 7 9 4 1 3 5]]\n"
     ]
    }
   ],
   "source": [
    "# hit shift + enter to solve the puzzle using the solve function we just described\n",
    "# press return after it shows the solution to display alternative solutions. \n",
    "\n",
    "solve()"
   ]
  },
  {
   "cell_type": "markdown",
   "metadata": {},
   "source": [
    "##### Empty template, so you can easily run your own puzzles"
   ]
  },
  {
   "cell_type": "code",
   "execution_count": 7,
   "metadata": {},
   "outputs": [
    {
     "data": {
      "text/plain": [
       "' \\ngrid = [[0,0,0,0,0,0,0,0,0],\\n        [0,0,0,0,0,0,0,0,0],\\n        [0,0,0,0,0,0,0,0,0],\\n        [0,0,0,0,0,0,0,0,0],\\n        [0,0,0,0,0,0,0,0,0],\\n        [0,0,0,0,0,0,0,0,0],\\n        [0,0,0,0,0,0,0,0,0],\\n        [0,0,0,0,0,0,0,0,0],\\n        [0,0,0,0,0,0,0,0,0]]\\n'"
      ]
     },
     "execution_count": 7,
     "metadata": {},
     "output_type": "execute_result"
    }
   ],
   "source": [
    "\"\"\" \n",
    "grid = [[0,0,0,0,0,0,0,0,0],\n",
    "        [0,0,0,0,0,0,0,0,0],\n",
    "        [0,0,0,0,0,0,0,0,0],\n",
    "        [0,0,0,0,0,0,0,0,0],\n",
    "        [0,0,0,0,0,0,0,0,0],\n",
    "        [0,0,0,0,0,0,0,0,0],\n",
    "        [0,0,0,0,0,0,0,0,0],\n",
    "        [0,0,0,0,0,0,0,0,0],\n",
    "        [0,0,0,0,0,0,0,0,0]]\n",
    "\"\"\""
   ]
  },
  {
   "cell_type": "code",
   "execution_count": null,
   "metadata": {
    "collapsed": true
   },
   "outputs": [],
   "source": []
  }
 ],
 "metadata": {
  "interpreter": {
   "hash": "40d3a090f54c6569ab1632332b64b2c03c39dcf918b08424e98f38b5ae0af88f"
  },
  "kernelspec": {
   "display_name": "Python 3.7.6 ('base')",
   "language": "python",
   "name": "python3"
  },
  "language_info": {
   "codemirror_mode": {
    "name": "ipython",
    "version": 3
   },
   "file_extension": ".py",
   "mimetype": "text/x-python",
   "name": "python",
   "nbconvert_exporter": "python",
   "pygments_lexer": "ipython3",
   "version": "3.7.6"
  }
 },
 "nbformat": 4,
 "nbformat_minor": 2
}
